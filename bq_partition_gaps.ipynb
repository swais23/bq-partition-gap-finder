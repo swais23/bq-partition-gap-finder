{
  "nbformat": 4,
  "nbformat_minor": 0,
  "metadata": {
    "colab": {
      "provenance": [],
      "authorship_tag": "ABX9TyNlszm+/gC6mzrBRVbPQdKM",
      "include_colab_link": true
    },
    "kernelspec": {
      "name": "python3",
      "display_name": "Python 3"
    },
    "language_info": {
      "name": "python"
    },
    "widgets": {
      "application/vnd.jupyter.widget-state+json": {
        "5d1ac89bfd9244a69482cf91bfed271b": {
          "model_module": "@jupyter-widgets/controls",
          "model_name": "SelectMultipleModel",
          "model_module_version": "1.5.0",
          "state": {
            "_dom_classes": [],
            "_model_module": "@jupyter-widgets/controls",
            "_model_module_version": "1.5.0",
            "_model_name": "SelectMultipleModel",
            "_options_labels": [
              "pageviews_2015",
              "pageviews_2016",
              "pageviews_2017",
              "pageviews_2018",
              "pageviews_2019",
              "pageviews_2020",
              "pageviews_2021",
              "pageviews_2022",
              "pageviews_2023",
              "pageviews_2024",
              "pageviews_2025",
              "table_activists",
              "table_bands",
              "table_composers",
              "table_singers",
              "table_writers",
              "wikidata"
            ],
            "_view_count": null,
            "_view_module": "@jupyter-widgets/controls",
            "_view_module_version": "1.5.0",
            "_view_name": "SelectMultipleView",
            "description": "",
            "description_tooltip": null,
            "disabled": false,
            "index": [
              9
            ],
            "layout": "IPY_MODEL_b567039664244ea4bf0444a253480a90",
            "rows": 5,
            "style": "IPY_MODEL_4e1a869ca48146809d14bad7937264fe"
          }
        },
        "b567039664244ea4bf0444a253480a90": {
          "model_module": "@jupyter-widgets/base",
          "model_name": "LayoutModel",
          "model_module_version": "1.2.0",
          "state": {
            "_model_module": "@jupyter-widgets/base",
            "_model_module_version": "1.2.0",
            "_model_name": "LayoutModel",
            "_view_count": null,
            "_view_module": "@jupyter-widgets/base",
            "_view_module_version": "1.2.0",
            "_view_name": "LayoutView",
            "align_content": null,
            "align_items": null,
            "align_self": null,
            "border": null,
            "bottom": null,
            "display": null,
            "flex": null,
            "flex_flow": null,
            "grid_area": null,
            "grid_auto_columns": null,
            "grid_auto_flow": null,
            "grid_auto_rows": null,
            "grid_column": null,
            "grid_gap": null,
            "grid_row": null,
            "grid_template_areas": null,
            "grid_template_columns": null,
            "grid_template_rows": null,
            "height": null,
            "justify_content": null,
            "justify_items": null,
            "left": null,
            "margin": null,
            "max_height": null,
            "max_width": null,
            "min_height": null,
            "min_width": null,
            "object_fit": null,
            "object_position": null,
            "order": null,
            "overflow": null,
            "overflow_x": null,
            "overflow_y": null,
            "padding": null,
            "right": null,
            "top": null,
            "visibility": null,
            "width": null
          }
        },
        "4e1a869ca48146809d14bad7937264fe": {
          "model_module": "@jupyter-widgets/controls",
          "model_name": "DescriptionStyleModel",
          "model_module_version": "1.5.0",
          "state": {
            "_model_module": "@jupyter-widgets/controls",
            "_model_module_version": "1.5.0",
            "_model_name": "DescriptionStyleModel",
            "_view_count": null,
            "_view_module": "@jupyter-widgets/base",
            "_view_module_version": "1.2.0",
            "_view_name": "StyleView",
            "description_width": ""
          }
        }
      }
    }
  },
  "cells": [
    {
      "cell_type": "markdown",
      "metadata": {
        "id": "view-in-github",
        "colab_type": "text"
      },
      "source": [
        "<a href=\"https://colab.research.google.com/github/swais23/bq-partition-gap-finder/blob/feature%2Fpartition-gap-finder/bq_partition_gaps.ipynb\" target=\"_parent\"><img src=\"https://colab.research.google.com/assets/colab-badge.svg\" alt=\"Open In Colab\"/></a>"
      ]
    },
    {
      "cell_type": "code",
      "execution_count": null,
      "metadata": {
        "colab": {
          "base_uri": "https://localhost:8080/"
        },
        "id": "fv3UmZD_IXox",
        "outputId": "4476aea2-f9a5-473b-90a0-e8455b8a8d10"
      },
      "outputs": [
        {
          "output_type": "stream",
          "name": "stdout",
          "text": [
            "Authenticated\n"
          ]
        }
      ],
      "source": [
        "# @title Imports\n",
        "import gspread\n",
        "import ipywidgets as widgets\n",
        "import pandas as pd\n",
        "from google.auth import default\n",
        "from google.cloud import bigquery\n",
        "from google.colab import auth, syntax\n",
        "from gspread.exceptions import SpreadsheetNotFound, WorksheetNotFound\n",
        "\n",
        "auth.authenticate_user()\n",
        "print(\"Authenticated\")"
      ]
    },
    {
      "cell_type": "code",
      "source": [
        "# @title Setup\n",
        "project = \"bigquery-public-data\"  # @param [\"bigquery-public-data\"]\n",
        "dataset = \"wikipedia\"  # @param [\"wikipedia\", \"worldpop\"]\n",
        "execution_project = \"my-bq-project\"  # @param {\"type\":\"string\"}\n",
        "partition_granularity = \"daily\"  # @param [\"hourly\",\"daily\",\"monthly\"]\n",
        "\n",
        "if partition_granularity == \"hourly\":\n",
        "    parse_function = \"PARSE_TIMESTAMP\"\n",
        "    diff_function = \"TIMESTAMP_DIFF\"\n",
        "    partition_format = \"%Y%m%d%H\"\n",
        "    date_part = \"HOUR\"\n",
        "\n",
        "else:\n",
        "    parse_function = \"PARSE_DATE\"\n",
        "    diff_function = \"DATE_DIFF\"\n",
        "    partition_format = \"%Y%m%d\" if partition_granularity == \"daily\" else \"%Y%m\"\n",
        "    date_part = \"DAY\" if partition_granularity == \"daily\" else \"MONTH\"\n",
        "\n",
        "bq_client = bigquery.Client(project=execution_project)\n",
        "\n",
        "sql = syntax.sql(\n",
        "    f\"\"\"\n",
        "    SELECT DISTINCT table_name\n",
        "    FROM `{project}.{dataset}.INFORMATION_SCHEMA.PARTITIONS`\n",
        "    WHERE SAFE.{parse_function}(\"{partition_format}\", partition_id) IS NOT NULL\n",
        "    ORDER BY 1\n",
        "    \"\"\"\n",
        ")\n",
        "\n",
        "\n",
        "def get_partitioned_tables(sql: str) -> widgets.SelectMultiple:\n",
        "\n",
        "    tables = widgets.SelectMultiple(options=bq_client.query(sql).to_dataframe().table_name)\n",
        "\n",
        "    return tables\n",
        "\n",
        "\n",
        "# Enable table selection\n",
        "tables = get_partitioned_tables(sql)\n",
        "if tables.options:\n",
        "    print(\"Select table(s):\")\n",
        "    display(tables)\n",
        "\n",
        "else:\n",
        "    print(\"No tables match the selected criteria.\")"
      ],
      "metadata": {
        "colab": {
          "base_uri": "https://localhost:8080/",
          "height": 128,
          "referenced_widgets": [
            "5d1ac89bfd9244a69482cf91bfed271b",
            "b567039664244ea4bf0444a253480a90",
            "4e1a869ca48146809d14bad7937264fe"
          ]
        },
        "id": "tcEe4AHlIjvt",
        "outputId": "da95edc6-0177-4549-ae2e-6a3a041d668a",
        "collapsed": true
      },
      "execution_count": null,
      "outputs": [
        {
          "output_type": "stream",
          "name": "stdout",
          "text": [
            "Select table(s):\n"
          ]
        },
        {
          "output_type": "display_data",
          "data": {
            "text/plain": [
              "SelectMultiple(options=('pageviews_2015', 'pageviews_2016', 'pageviews_2017', 'pageviews_2018', 'pageviews_201…"
            ],
            "application/vnd.jupyter.widget-view+json": {
              "version_major": 2,
              "version_minor": 0,
              "model_id": "5d1ac89bfd9244a69482cf91bfed271b"
            }
          },
          "metadata": {}
        }
      ]
    },
    {
      "cell_type": "code",
      "source": [
        "# @title Find Partition Gaps\n",
        "create_new_worksheet = True  # @param {\"type\":\"boolean\"}\n",
        "output_worksheet = \"Partition_Gaps\"  # @param {\"type\":\"string\"}\n",
        "\n",
        "creds, _ = default()\n",
        "gc = gspread.authorize(creds)\n",
        "\n",
        "selected_tables = tables.value\n",
        "# Remove trailing comma from single-element tuple\n",
        "if len(selected_tables) == 1:\n",
        "    selected_tables = f\"('{selected_tables[0]}')\"\n",
        "\n",
        "sql = syntax.sql(\n",
        "    f\"\"\"\n",
        "    WITH test AS (\n",
        "        SELECT\n",
        "            table_name,\n",
        "            {parse_function}(\"{partition_format}\", partition_id) AS partition_id,\n",
        "            LEAD({parse_function}(\"{partition_format}\", partition_id)) OVER (\n",
        "              PARTITION BY table_name ORDER BY partition_id\n",
        "            ) AS next_partition_id\n",
        "        FROM `{project}.{dataset}.INFORMATION_SCHEMA.PARTITIONS`\n",
        "        WHERE\n",
        "            table_name IN {selected_tables}\n",
        "            AND total_rows > 0\n",
        "            AND partition_id NOT LIKE \"%NULL%\"\n",
        "    )\n",
        "\n",
        "    SELECT\n",
        "        *,\n",
        "        {diff_function}(next_partition_id, partition_id, {date_part}) - 1 AS days_missing\n",
        "    FROM test\n",
        "    WHERE {diff_function}(next_partition_id, partition_id, {date_part}) > 1\n",
        "    ORDER BY table_name, partition_id\n",
        "    \"\"\"\n",
        ")\n",
        "\n",
        "\n",
        "def get_partition_gaps(sql: str) -> None:\n",
        "\n",
        "    df = bq_client.query(sql).to_dataframe(dtypes={\"partition_id\": str, \"next_partition_id\": str})\n",
        "\n",
        "    if not df.empty:\n",
        "        if create_new_worksheet:\n",
        "            worksheet = gc.create(output_worksheet)\n",
        "            sheet = worksheet.sheet1\n",
        "            sheet.update_title(dataset)\n",
        "\n",
        "        else:\n",
        "            try:\n",
        "                worksheet = gc.open(output_worksheet)\n",
        "            except SpreadsheetNotFound:\n",
        "                print(f\"Error: Worksheet '{output_worksheet}' not found.\")\n",
        "                return\n",
        "\n",
        "            try:\n",
        "                sheet = worksheet.worksheet(dataset)\n",
        "            except WorksheetNotFound:\n",
        "                worksheet.add_worksheet(dataset, rows=1000, cols=26)\n",
        "                sheet = worksheet.worksheet(dataset)\n",
        "\n",
        "        sheet.update([df.columns.values.tolist()] + df.values.tolist())\n",
        "\n",
        "        print(f\"Some of the selected tables contain partition gaps: {sheet.url}\")\n",
        "\n",
        "    else:\n",
        "        print(\"None of the selected tables contain partition gaps.\")\n",
        "\n",
        "\n",
        "get_partition_gaps(sql)"
      ],
      "metadata": {
        "colab": {
          "base_uri": "https://localhost:8080/"
        },
        "id": "1aIvSqdFLSaa",
        "outputId": "3dd70003-af14-44a9-97e8-9d188facc8fe",
        "collapsed": true
      },
      "execution_count": null,
      "outputs": [
        {
          "output_type": "stream",
          "name": "stdout",
          "text": [
            "Some partitions are missing from selected tables: https://docs.google.com/spreadsheets/d/1JORhZlR-PFfOm92IvvHxziSCF0Mc4Hi2jc75reXRvDg#gid=0\n"
          ]
        }
      ]
    }
  ]
}